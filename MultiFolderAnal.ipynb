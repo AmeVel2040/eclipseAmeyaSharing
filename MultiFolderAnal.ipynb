{
 "cells": [
  {
   "cell_type": "code",
   "execution_count": 2,
   "id": "b728f156-8cca-4cdd-b8db-766d7c47b581",
   "metadata": {},
   "outputs": [],
   "source": [
    "import numpy as np\n",
    "import matplotlib.pyplot as plt\n",
    "import scipy\n",
    "from scipy import signal\n",
    "from scipy.fft import fftshift\n",
    "from matplotlib import cm\n",
    "import matplotlib.cbook as cbook\n",
    "import matplotlib.colors as colors\n",
    "import os"
   ]
  },
  {
   "cell_type": "code",
   "execution_count": 15,
   "id": "52b3a12d-28ca-4472-b7e9-036f610755c5",
   "metadata": {},
   "outputs": [
    {
     "name": "stdout",
     "output_type": "stream",
     "text": [
      "GA01\n"
     ]
    },
    {
     "ename": "KeyboardInterrupt",
     "evalue": "",
     "output_type": "error",
     "traceback": [
      "\u001b[1;31m---------------------------------------------------------------------------\u001b[0m",
      "\u001b[1;31mKeyboardInterrupt\u001b[0m                         Traceback (most recent call last)",
      "Cell \u001b[1;32mIn[15], line 73\u001b[0m\n\u001b[0;32m     71\u001b[0m \u001b[38;5;28mprint\u001b[39m(title)\n\u001b[0;32m     72\u001b[0m pathS\u001b[38;5;241m=\u001b[39mdirectory\u001b[38;5;241m+\u001b[39mtitle\u001b[38;5;241m+\u001b[39m\u001b[38;5;124m\"\u001b[39m\u001b[38;5;124m/\u001b[39m\u001b[38;5;124m\"\u001b[39m\n\u001b[1;32m---> 73\u001b[0m Data\u001b[38;5;241m=\u001b[39mremoveStart(\u001b[43mgetData\u001b[49m\u001b[43m(\u001b[49m\u001b[43mpathS\u001b[49m\u001b[43m)\u001b[49m)\n\u001b[0;32m     74\u001b[0m VTplot(Data,title)\n\u001b[0;32m     75\u001b[0m stdplot(Data,title)\n",
      "Cell \u001b[1;32mIn[15], line 19\u001b[0m, in \u001b[0;36mgetData\u001b[1;34m(path)\u001b[0m\n\u001b[0;32m     17\u001b[0m         Data\u001b[38;5;241m=\u001b[39mnp\u001b[38;5;241m.\u001b[39mconcatenate((Data,df\u001b[38;5;241m.\u001b[39mT),axis\u001b[38;5;241m=\u001b[39m\u001b[38;5;241m1\u001b[39m)\n\u001b[0;32m     18\u001b[0m     \u001b[38;5;28;01melse\u001b[39;00m:\n\u001b[1;32m---> 19\u001b[0m         df\u001b[38;5;241m=\u001b[39m\u001b[43mnp\u001b[49m\u001b[38;5;241;43m.\u001b[39;49m\u001b[43mgenfromtxt\u001b[49m\u001b[43m(\u001b[49m\u001b[43mpathS\u001b[49m\u001b[43m,\u001b[49m\u001b[43mdelimiter\u001b[49m\u001b[38;5;241;43m=\u001b[39;49m\u001b[38;5;124;43m\"\u001b[39;49m\u001b[38;5;130;43;01m\\t\u001b[39;49;00m\u001b[38;5;124;43m\"\u001b[39;49m\u001b[43m)\u001b[49m\n\u001b[0;32m     20\u001b[0m         Data\u001b[38;5;241m=\u001b[39mnp\u001b[38;5;241m.\u001b[39mconcatenate((Data,df\u001b[38;5;241m.\u001b[39mT),axis\u001b[38;5;241m=\u001b[39m\u001b[38;5;241m1\u001b[39m)\n\u001b[0;32m     21\u001b[0m \u001b[38;5;28;01mreturn\u001b[39;00m Data\n",
      "File \u001b[1;32m~\\anaconda3\\lib\\site-packages\\numpy\\lib\\npyio.py:2442\u001b[0m, in \u001b[0;36mgenfromtxt\u001b[1;34m(fname, dtype, comments, delimiter, skip_header, skip_footer, converters, missing_values, filling_values, usecols, names, excludelist, deletechars, replace_space, autostrip, case_sensitive, defaultfmt, unpack, usemask, loose, invalid_raise, max_rows, encoding, ndmin, like)\u001b[0m\n\u001b[0;32m   2440\u001b[0m             dtype \u001b[38;5;241m=\u001b[39m np\u001b[38;5;241m.\u001b[39mdtype(ttype)\n\u001b[0;32m   2441\u001b[0m \u001b[38;5;66;03m#\u001b[39;00m\n\u001b[1;32m-> 2442\u001b[0m output \u001b[38;5;241m=\u001b[39m np\u001b[38;5;241m.\u001b[39marray(data, dtype)\n\u001b[0;32m   2443\u001b[0m \u001b[38;5;28;01mif\u001b[39;00m usemask:\n\u001b[0;32m   2444\u001b[0m     \u001b[38;5;28;01mif\u001b[39;00m dtype\u001b[38;5;241m.\u001b[39mnames \u001b[38;5;129;01mis\u001b[39;00m \u001b[38;5;129;01mnot\u001b[39;00m \u001b[38;5;28;01mNone\u001b[39;00m:\n",
      "\u001b[1;31mKeyboardInterrupt\u001b[0m: "
     ]
    }
   ],
   "source": [
    "#Add parent directory here, change the directory's to put the plot's in\n",
    "directory=\"C:/Users/ameya/OneDrive - University of Pittsburgh/Eclipse/DataFiles/NewHatRetests/\"\n",
    "folder=os.listdir(directory)\n",
    "    \n",
    "def getData(path):\n",
    "    Data=np.zeros((2,2))\n",
    "    folder=os.listdir(path)\n",
    "    foldernums=np.array([])\n",
    "    for i in folder:\n",
    "        foldernums=np.append(foldernums,i[8:-4]).astype(int)\n",
    "    foldernums=np.sort(foldernums)\n",
    "    end=foldernums[-1]\n",
    "    for i in foldernums:\n",
    "        pathS=path+\"LSDate0_\"+str(i)+\".txt\"\n",
    "        if(i==end):\n",
    "            df=np.genfromtxt(pathS,delimiter=\"\\t\",skip_footer=1)\n",
    "            Data=np.concatenate((Data,df.T),axis=1)\n",
    "        else:\n",
    "            df=np.genfromtxt(pathS,delimiter=\"\\t\")\n",
    "            Data=np.concatenate((Data,df.T),axis=1)\n",
    "    return Data\n",
    "\n",
    "def removeStart(data):\n",
    "    index=3 #2 would probably work, but who cares\n",
    "    newVData=data[0][index:-1]\n",
    "    if np.all(np.less(newVData,np.zeros(len(newVData)))):\n",
    "        newVData=-1*newVData\n",
    "    newTData=data[1][index:-1]-data[1][index]\n",
    "    newData=np.array([newVData.T,newTData.T])\n",
    "    return newData\n",
    "\n",
    "def VTplot(data,title):\n",
    "    plt.plot(data[1],data[0])\n",
    "    plt.title(\"New Hat 3/26 \" + title +\" VT\")\n",
    "    plt.ylabel(\"V\")\n",
    "    plt.xlabel(\"Time\")\n",
    "    mn=np.median(data[0])\n",
    "    st=scipy.stats.iqr(data[0])\n",
    "    plt.ylim(mn-6*st,mn+6*st)\n",
    "    #plt.yscale(\"log\")\n",
    "    plt.savefig(\"C:/Users/ameya/OneDrive - University of Pittsburgh/Eclipse/DataFiles/NewHatRetests/VTPlots/\"+title+\".png\")\n",
    "    plt.clf()\n",
    "    \n",
    "def stdplot(data,title):\n",
    "    w=1*400\n",
    "    stds=np.std(np.lib.stride_tricks.sliding_window_view(data[0], w),axis=1)\n",
    "    plt.plot(stds)\n",
    "    plt.yscale(\"log\")\n",
    "    #plt.ylim(1e-6,1e-4)\n",
    "    plt.ylim(1e-5,1e-1)\n",
    "    plt.title(\"New Hat 3/26 \" + title + \" std, median= \" +str(np.round(1e6*np.median(stds),1))+\"e6\")\n",
    "    plt.ylabel(\"V-std\")\n",
    "    plt.xlabel(\"Time\")\n",
    "    plt.savefig(\"C:/Users/ameya/OneDrive - University of Pittsburgh/Eclipse/DataFiles/NewHatRetests/stdPlots/\"+title+\".png\")\n",
    "    plt.clf()\n",
    "\n",
    "def spectogram(data,title):\n",
    "    fs=1/np.median(np.diff(Data[1]))\n",
    "    f, t, Sxx = signal.spectrogram(data[0], fs,nperseg=3*256,detrend=\"linear\")\n",
    "    plt.pcolormesh(t, f, Sxx,norm=colors.LogNorm(vmin=Sxx.min(), vmax=Sxx.max()),cmap=\"gray\")\n",
    "    plt.title(\"New Hat 3/26 \" + title + \" Spectogram\")\n",
    "    plt.colorbar()\n",
    "    plt.ylabel('Frequency [Hz]')\n",
    "    plt.xlabel('Time [sec]')\n",
    "    plt.savefig(\"C:/Users/ameya/OneDrive - University of Pittsburgh/Eclipse/DataFiles/NewHatRetests/specPlots/\"+title+\".png\")\n",
    "    plt.clf()\n",
    "\n",
    "\n",
    "folder=[\"GA01\",\"GA03\"]   #if you need to mess with one in particular\n",
    "for title in folder:\n",
    "    print(title)\n",
    "    pathS=directory+title+\"/\"\n",
    "    Data=removeStart(getData(pathS))\n",
    "    VTplot(Data,title)\n",
    "    stdplot(Data,title)\n",
    "    spectogram(Data,title)\n",
    "print(\"Finished!\")"
   ]
  },
  {
   "cell_type": "code",
   "execution_count": 5,
   "id": "b45386ef-6cbf-452d-9568-c839ec4f5365",
   "metadata": {},
   "outputs": [],
   "source": []
  },
  {
   "cell_type": "code",
   "execution_count": null,
   "id": "e3559848-2fb4-46f6-a810-1b845b764754",
   "metadata": {},
   "outputs": [],
   "source": []
  }
 ],
 "metadata": {
  "kernelspec": {
   "display_name": "Python 3 (ipykernel)",
   "language": "python",
   "name": "python3"
  },
  "language_info": {
   "codemirror_mode": {
    "name": "ipython",
    "version": 3
   },
   "file_extension": ".py",
   "mimetype": "text/x-python",
   "name": "python",
   "nbconvert_exporter": "python",
   "pygments_lexer": "ipython3",
   "version": "3.9.18"
  }
 },
 "nbformat": 4,
 "nbformat_minor": 5
}
