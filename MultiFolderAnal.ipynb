{
 "cells": [
  {
   "cell_type": "code",
   "execution_count": 2,
   "id": "b728f156-8cca-4cdd-b8db-766d7c47b581",
   "metadata": {},
   "outputs": [],
   "source": [
    "import numpy as np\n",
    "import matplotlib.pyplot as plt\n",
    "import scipy\n",
    "from scipy import signal\n",
    "from scipy.fft import fftshift\n",
    "from matplotlib import cm\n",
    "import matplotlib.cbook as cbook\n",
    "import matplotlib.colors as colors\n",
    "import os"
   ]
  },
  {
   "cell_type": "code",
   "execution_count": 5,
   "id": "52b3a12d-28ca-4472-b7e9-036f610755c5",
   "metadata": {},
   "outputs": [
    {
     "name": "stdout",
     "output_type": "stream",
     "text": [
      "GA06\n"
     ]
    },
    {
     "data": {
      "text/plain": [
       "<Figure size 640x480 with 0 Axes>"
      ]
     },
     "metadata": {},
     "output_type": "display_data"
    }
   ],
   "source": [
    "#Add parent directory here, change the directory's to put the plot's in\n",
    "directory=\"C:/Users/ameya/OneDrive - University of Pittsburgh/Eclipse/DataFiles/NightData/NightData/\"\n",
    "\n",
    "folder=os.listdir(directory)\n",
    "    \n",
    "def getData(path):\n",
    "    Data=np.zeros((2,2))\n",
    "    end = os.listdir(pathS)[-1]\n",
    "    for i in os.listdir(pathS):\n",
    "        \n",
    "        path=pathS+i\n",
    "        if(i==end):\n",
    "            df=np.genfromtxt(path,delimiter=\"\\t\",skip_footer=1)\n",
    "            Data=np.concatenate((Data,df.T),axis=1)\n",
    "        else:\n",
    "            try:\n",
    "                df=np.genfromtxt(path,delimiter=\"\\t\")\n",
    "                Data=np.concatenate((Data,df.T),axis=1)\n",
    "            except:\n",
    "                print(i)\n",
    "    return Data\n",
    "\n",
    "def removeStart(data):\n",
    "    index=3 #2 would probably work, but who cares\n",
    "    newVData=data[0][index:-1]\n",
    "    if np.all(np.less(newVData,np.zeros(len(newVData)))):\n",
    "        newVData=-1*newVData\n",
    "    newTData=data[1][index:-1]-data[1][index]\n",
    "    newData=np.array([newVData.T,newTData.T])\n",
    "    return newData\n",
    "\n",
    "def clip(data): #unused\n",
    "    mn=np.median(data[0])\n",
    "    st=np.std(data[0])\n",
    "    bad=np.where(data[0]>0.001)\n",
    "    print(bad)\n",
    "    return(np.delete(data,bad,1))\n",
    "\n",
    "def VTplot(data,title):\n",
    "    plt.plot(data[1],data[0])\n",
    "    plt.title(\"NIGHT 3/24 \" + title +\" VT\")\n",
    "    plt.ylabel(\"V\")\n",
    "    plt.xlabel(\"Time\")\n",
    "    mn=np.median(data[0])\n",
    "    st=scipy.stats.iqr(data[0])\n",
    "    plt.ylim(mn-6*st,mn+6*st)\n",
    "    #plt.yscale(\"log\")\n",
    "    plt.savefig(\"C:/Users/ameya/OneDrive - University of Pittsburgh/Eclipse/DataFiles/NightData/VTPlots/\"+title+\".png\")\n",
    "    plt.clf()\n",
    "    \n",
    "def stdplot(data,title):\n",
    "    w=1*400\n",
    "    stds=np.std(np.lib.stride_tricks.sliding_window_view(data[0], w),axis=1)\n",
    "    plt.plot(stds)\n",
    "    plt.yscale(\"log\")\n",
    "    plt.ylim(1e-6,1e-4)\n",
    "    plt.title(\"NIGHT 3/24 \" + title + \" std, median= \" +str(np.round(1e6*np.median(stds),1))+\"e6\")\n",
    "    plt.ylabel(\"V-std\")\n",
    "    plt.xlabel(\"Time\")\n",
    "    plt.savefig(\"C:/Users/ameya/OneDrive - University of Pittsburgh/Eclipse/DataFiles/NightData/stdPlots/\"+title+\".png\")\n",
    "    plt.clf()\n",
    "\n",
    "def spectogram(data,title):\n",
    "    fs=1/np.median(np.diff(Data[1]))\n",
    "    f, t, Sxx = signal.spectrogram(data[0], fs,nperseg=2*256)\n",
    "    plt.pcolormesh(t, f, Sxx,norm=colors.LogNorm(vmin=Sxx.min(), vmax=Sxx.max()),cmap=\"gray\")\n",
    "    plt.title(\"NIGHT 3/24 \" + title + \" Spectogram\")\n",
    "    plt.colorbar()\n",
    "    plt.ylabel('Frequency [Hz]')\n",
    "    plt.xlabel('Time [sec]')\n",
    "    plt.savefig(\"C:/Users/ameya/OneDrive - University of Pittsburgh/Eclipse/DataFiles/NightData/specPlots/\"+title+\".png\")\n",
    "    plt.clf()\n",
    "\n",
    "\n",
    "#folder=[\"GA06\"]   #if you need to mess with one in particular\n",
    "for title in folder:\n",
    "    print(title)\n",
    "    pathS=directory+title+\"/\"\n",
    "    Data=removeStart(getData(pathS))\n",
    "    VTplot(Data,title)\n",
    "    stdplot(Data,title)\n",
    "    spectogram(Data,title)\n"
   ]
  },
  {
   "cell_type": "code",
   "execution_count": 5,
   "id": "b45386ef-6cbf-452d-9568-c839ec4f5365",
   "metadata": {},
   "outputs": [],
   "source": []
  },
  {
   "cell_type": "code",
   "execution_count": null,
   "id": "e3559848-2fb4-46f6-a810-1b845b764754",
   "metadata": {},
   "outputs": [],
   "source": []
  }
 ],
 "metadata": {
  "kernelspec": {
   "display_name": "Python 3 (ipykernel)",
   "language": "python",
   "name": "python3"
  },
  "language_info": {
   "codemirror_mode": {
    "name": "ipython",
    "version": 3
   },
   "file_extension": ".py",
   "mimetype": "text/x-python",
   "name": "python",
   "nbconvert_exporter": "python",
   "pygments_lexer": "ipython3",
   "version": "3.9.18"
  }
 },
 "nbformat": 4,
 "nbformat_minor": 5
}
